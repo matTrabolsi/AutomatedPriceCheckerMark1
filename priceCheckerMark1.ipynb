{
 "cells": [
  {
   "cell_type": "markdown",
   "id": "eb86a37e",
   "metadata": {},
   "source": [
    "importing excel sheet\n"
   ]
  },
  {
   "cell_type": "code",
   "execution_count": 120,
   "id": "541803f5",
   "metadata": {},
   "outputs": [
    {
     "data": {
      "text/html": [
       "<div>\n",
       "<style scoped>\n",
       "    .dataframe tbody tr th:only-of-type {\n",
       "        vertical-align: middle;\n",
       "    }\n",
       "\n",
       "    .dataframe tbody tr th {\n",
       "        vertical-align: top;\n",
       "    }\n",
       "\n",
       "    .dataframe thead th {\n",
       "        text-align: right;\n",
       "    }\n",
       "</style>\n",
       "<table border=\"1\" class=\"dataframe\">\n",
       "  <thead>\n",
       "    <tr style=\"text-align: right;\">\n",
       "      <th></th>\n",
       "      <th>sku</th>\n",
       "      <th>special price</th>\n",
       "    </tr>\n",
       "  </thead>\n",
       "  <tbody>\n",
       "    <tr>\n",
       "      <th>0</th>\n",
       "      <td>ORL-00006341</td>\n",
       "      <td>6.600</td>\n",
       "    </tr>\n",
       "    <tr>\n",
       "      <th>1</th>\n",
       "      <td>ORL-00006341</td>\n",
       "      <td>6.601</td>\n",
       "    </tr>\n",
       "    <tr>\n",
       "      <th>2</th>\n",
       "      <td>I-00000190608</td>\n",
       "      <td>15.000</td>\n",
       "    </tr>\n",
       "    <tr>\n",
       "      <th>3</th>\n",
       "      <td>I-00000190608</td>\n",
       "      <td>15.001</td>\n",
       "    </tr>\n",
       "    <tr>\n",
       "      <th>4</th>\n",
       "      <td>ORL-00006239</td>\n",
       "      <td>22.500</td>\n",
       "    </tr>\n",
       "  </tbody>\n",
       "</table>\n",
       "</div>"
      ],
      "text/plain": [
       "             sku  special price\n",
       "0   ORL-00006341          6.600\n",
       "1   ORL-00006341          6.601\n",
       "2  I-00000190608         15.000\n",
       "3  I-00000190608         15.001\n",
       "4   ORL-00006239         22.500"
      ]
     },
     "execution_count": 120,
     "metadata": {},
     "output_type": "execute_result"
    }
   ],
   "source": [
    "import pandas as pd \n",
    "import numpy as np\n",
    "import requests\n",
    "from rich import print_json\n",
    "from bs4 import BeautifulSoup\n",
    "import json\n",
    "\n",
    "\n",
    "df = pd.read_excel('prices3.xlsx')\n",
    "df[\"sku\"] = df[\"sku\"].astype(str)\n",
    "\n",
    "df.head()"
   ]
  },
  {
   "cell_type": "code",
   "execution_count": 121,
   "id": "4dfbbf37",
   "metadata": {},
   "outputs": [
    {
     "data": {
      "text/plain": [
       "'black-mamool-36gm/p/'"
      ]
     },
     "execution_count": 121,
     "metadata": {},
     "output_type": "execute_result"
    }
   ],
   "source": [
    "def fetchSlug(sku): \n",
    "    url = \"https://ksa-api.boutiqaat.com/searchplus/rest/V2/global/suggest\"\n",
    "    headers = {\n",
    "        \"accept\": \"application/json, text/plain, */*\",\n",
    "        \"accept-language\": \"en\",\n",
    "        \"content-type\": \"application/json\",\n",
    "        \"origin\": \"https://www.boutiqaat.com\",\n",
    "        \"param\": '{\"gender\":\"4194\",\"app_version\":\"8.0.0\",\"platform\":\"web\",\"deviceId\":\"1759937968632-266715\",\"exp_list\":{\"exp-55139\":\"default\",\"exp-36818\":\"disabled\",\"exp-36740\":\"default\"}}',\n",
    "        \"priority\": \"u=1, i\",\n",
    "        \"referer\": \"https://www.boutiqaat.com/\",\n",
    "        \"sec-ch-ua\": '\"Google Chrome\";v=\"141\", \"Not?A_Brand\";v=\"8\", \"Chromium\";v=\"141\"',\n",
    "        \"sec-ch-ua-mobile\": \"?0\",\n",
    "        \"sec-ch-ua-platform\": '\"Linux\"',\n",
    "        \"sec-fetch-dest\": \"empty\",\n",
    "        \"sec-fetch-mode\": \"cors\",\n",
    "        \"sec-fetch-site\": \"same-site\",\n",
    "        \"user-agent\": \"Mozilla/5.0 (X11; Linux x86_64) AppleWebKit/537.36 (KHTML, like Gecko) Chrome/141.0.0.0 Safari/537.36\"\n",
    "    }\n",
    "    payload = {\n",
    "        \"productId\": \"\",\n",
    "        \"tvId\": \"\",\n",
    "        \"slug\": \"\",\n",
    "        \"celebrityId\": \"\",\n",
    "        \"categoryId\": \"\",\n",
    "        \"brandId\": \"\",\n",
    "        \"celebrityIds\": \"\",\n",
    "        \"categoryIds\": \"\",\n",
    "        \"brandIds\": \"\",\n",
    "        \"optionId\": \"\",\n",
    "        \"attributeId\": \"\",\n",
    "        \"countryCodeAndLanguage\": \"kw_en\",\n",
    "        \"numberOfRecords\": 20,\n",
    "        \"newOrAll\": \"\",\n",
    "        \"featuredOnly\": None,\n",
    "        \"sortKey\": \"\",\n",
    "        \"sortDirection\": \"\",\n",
    "        \"searchString\": sku\n",
    "    }\n",
    "    response = requests.post(url, headers=headers, json=payload)\n",
    "    # print(response.status_code)\n",
    "    # print_json(data=response.json())\n",
    "    data = response.json()\n",
    "    return data[\"data\"][0][\"data\"][0][\"slug\"]\n",
    "\n",
    "fetchSlug(\"124374\")"
   ]
  },
  {
   "cell_type": "code",
   "execution_count": 122,
   "id": "d6aca5b8",
   "metadata": {},
   "outputs": [
    {
     "data": {
      "text/plain": [
       "'9.000'"
      ]
     },
     "execution_count": 122,
     "metadata": {},
     "output_type": "execute_result"
    }
   ],
   "source": [
    "def fetchHtmlPage(slug):\n",
    "    url = (f\"https://www.boutiqaat.com/en-kw/men/{slug}\")\n",
    "\n",
    "    response = requests.get(url)\n",
    "    html = response.text\n",
    "    soup = BeautifulSoup(html, \"html.parser\")\n",
    "\n",
    "\n",
    "    script_tag = soup.find(\"script\", {\"id\": \"__NEXT_DATA__\"})\n",
    "    data = json.loads(script_tag.string)\n",
    "\n",
    "    final_price = data[\"props\"][\"pageProps\"][\"response\"][0][\"final_price_with_tax\"]\n",
    "    return final_price\n",
    "fetchHtmlPage('black-mamool-36gm/p/')"
   ]
  },
  {
   "cell_type": "code",
   "execution_count": 123,
   "id": "af6d45f7",
   "metadata": {},
   "outputs": [],
   "source": [
    "def fetchPrice(sku):\n",
    "    slug = fetchSlug(sku)\n",
    "    web_price = fetchHtmlPage(slug)\n",
    "    return web_price\n"
   ]
  },
  {
   "cell_type": "code",
   "execution_count": 124,
   "id": "2845c511",
   "metadata": {},
   "outputs": [
    {
     "name": "stdout",
     "output_type": "stream",
     "text": [
      "SKU ORL-00006341: Prices match.\n",
      "SKU ORL-00006341: Excel price = 6.601, API price = 6.600 → Mismatch!\n",
      "SKU I-00000190608: Prices match.\n",
      "SKU I-00000190608: Excel price = 15.001, API price = 15.000 → Mismatch!\n",
      "SKU ORL-00006239: Prices match.\n",
      "SKU ORL-00006239: Excel price = 22.501, API price = 22.500 → Mismatch!\n",
      "SKU ORL-00004724: Prices match.\n",
      "SKU ORL-00004724: Excel price = 17.131, API price = 17.130 → Mismatch!\n",
      "SKU MU-00022119: Prices match.\n",
      "SKU MU-00022119: Excel price = 8.501, API price = 8.500 → Mismatch!\n",
      "SKU ORL-00003818: Prices match.\n",
      "SKU ORL-00003818: Excel price = 30.001, API price = 30.000 → Mismatch!\n",
      "SKU ORL-00007221: Prices match.\n",
      "SKU ORL-00007221: Excel price = 5.721, API price = 5.720 → Mismatch!\n",
      "SKU Conf-589239: Prices match.\n",
      "SKU Conf-589239: Excel price = 12.751, API price = 12.750 → Mismatch!\n",
      "SKU SC-00011934: Prices match.\n",
      "SKU SC-00011934: Excel price = 11.701, API price = 11.700 → Mismatch!\n",
      "SKU Conf-590088: Prices match.\n",
      "SKU Conf-590088: Excel price = 11.251, API price = 11.250 → Mismatch!\n",
      "SKU ORL-00007327: Prices match.\n",
      "SKU ORL-00007327: Excel price = 13.501, API price = 13.500 → Mismatch!\n",
      "SKU SC-00008133: Prices match.\n",
      "SKU SC-00008133: Excel price = 2.751, API price = 2.750 → Mismatch!\n",
      "SKU SC-00001356: Prices match.\n",
      "SKU SC-00001356: Excel price = 7.251, API price = 7.250 → Mismatch!\n",
      "SKU SC-00005791: Prices match.\n",
      "SKU SC-00005791: Excel price = 2.201, API price = 2.200 → Mismatch!\n",
      "SKU SC-00007393: Prices match.\n",
      "SKU SC-00007393: Excel price = 12.251, API price = 12.250 → Mismatch!\n",
      "SKU SC-00005794: Prices match.\n",
      "SKU SC-00005794: Excel price = 2.281, API price = 2.280 → Mismatch!\n",
      "SKU SC-00010545: Prices match.\n",
      "SKU SC-00010545: Excel price = 1.101, API price = 1.100 → Mismatch!\n",
      "SKU SC-00010568: Prices match.\n",
      "SKU SC-00010568: Excel price = 7.301, API price = 7.300 → Mismatch!\n",
      "SKU SC-00010556: Prices match.\n",
      "SKU SC-00010556: Excel price = 4.951, API price = 4.950 → Mismatch!\n",
      "SKU SC-00010553: Prices match.\n",
      "SKU SC-00010553: Excel price = 4.951, API price = 4.950 → Mismatch!\n",
      "SKU SC-00010571: Prices match.\n",
      "SKU SC-00010571: Excel price = 8.251, API price = 8.250 → Mismatch!\n",
      "SKU BAB-00002686: Prices match.\n",
      "SKU BAB-00002686: Excel price = 5.751, API price = 5.750 → Mismatch!\n",
      "SKU SC-00010569: Prices match.\n",
      "SKU SC-00010569: Excel price = 7.301, API price = 7.300 → Mismatch!\n",
      "SKU SC-00006436: Prices match.\n",
      "SKU SC-00006436: Excel price = 14.171, API price = 14.170 → Mismatch!\n",
      "SKU SC-00006888: Prices match.\n",
      "SKU SC-00006888: Excel price = 18.201, API price = 18.200 → Mismatch!\n",
      "SKU AC-00000268: Prices match.\n",
      "SKU AC-00000268: Excel price = 1.651, API price = 1.650 → Mismatch!\n"
     ]
    }
   ],
   "source": [
    "for index, row in df.iterrows():\n",
    "    sku = row[\"sku\"]\n",
    "    \n",
    "    original_price = row[\"special price\"]\n",
    "    \n",
    "    web_price = fetchPrice(sku)\n",
    "    if float(web_price) != float(original_price):\n",
    "        print(f\"SKU {sku}: Excel price = {original_price}, API price = {web_price} → Mismatch!\")\n",
    "        df.loc[index, \"match\"] = \"item mismatch\"\n",
    "    else:\n",
    "        print(f\"SKU {sku}: Prices match.\")\n",
    "        df.loc[index, \"match\"] = \"match\"\n",
    "df.to_excel(\"comparison_results.xlsx\", index=False)\n"
   ]
  }
 ],
 "metadata": {
  "kernelspec": {
   "display_name": "myenv",
   "language": "python",
   "name": "python3"
  },
  "language_info": {
   "codemirror_mode": {
    "name": "ipython",
    "version": 3
   },
   "file_extension": ".py",
   "mimetype": "text/x-python",
   "name": "python",
   "nbconvert_exporter": "python",
   "pygments_lexer": "ipython3",
   "version": "3.13.7"
  }
 },
 "nbformat": 4,
 "nbformat_minor": 5
}
